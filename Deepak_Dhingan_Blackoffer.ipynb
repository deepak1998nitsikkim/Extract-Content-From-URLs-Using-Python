{
 "cells": [
  {
   "cell_type": "code",
   "execution_count": 1,
   "id": "8c8d2021",
   "metadata": {},
   "outputs": [
    {
     "name": "stdout",
     "output_type": "stream",
     "text": [
      "Title :  Rise of telemedicine and its Impact on Livelihood by 2040\n",
      "Content :  \n",
      "Telemedicine, the use of technology to diagnose and treat patients remotely, has been rising in recent years. With the advent of high-speed internet and improved video conferencing tools, healthcare providers are increasingly turning to telemedicine to provide care to patients in remote or underserved areas.\n",
      "Telemedicine, using technology to provide healthcare services remotely, has recently gained popularity. With advancements in communication and medical technology, it has become increasingly possible for doctors and patients to connect and interact from anywhere in the world. This has led to the rise of telemedicine, which has the potential to revolutionize the way healthcare is delivered.#Telemedicine\n",
      "The increasing focus on preventative healthcare has also driven the rise of telemedicine. As more and more people become aware of the importance of staying healthy, they are looking for ways to prevent illness and maintain their health. Telemedicine allows people to monitor their health and get advice from healthcare providers without traveling to a clinic or hospital.\n",
      "Improved access to healthcare: One of the biggest challenges in the healthcare industry is the unequal distribution of medical resources, with many remote and rural areas lacking access to quality care. Telemedicine can help bridge this gap by allowing patients in these underserved areas to connect with healthcare providers worldwide. This can give people access to specialized medical care that they would otherwise not be able to receive, improving their health and overall well-being.#Healthcare\n",
      "Greater convenience and flexibility: Telemedicine also offers a level of convenience and flexibility that is impossible with traditional in-person medical visits. Patients can consult with their healthcare providers from the comfort of their own homes, saving time and money on travel. This is particularly beneficial for individuals who have mobility issues or who live in areas with limited access to medical facilities.\n",
      "Reduced healthcare costs: By enabling patients to receive care remotely, telemedicine can help reduce the overall cost of healthcare. This is because telemedicine visits are generally less expensive than in-person visits and can help prevent the need for more costly interventions, such as hospitalizations. As a result, telemedicine has the potential to make healthcare more affordable for patients and healthcare providers alike.#Costs\n",
      "Enhanced healthcare outcomes: Telemedicine can also improve patients’ quality of care. By allowing healthcare providers to access medical records and other important information remotely, telemedicine can help ensure that patients receive the most appropriate care for their needs. This can lead to better health outcomes and a higher quality of life for patients.#Enhanced\n",
      "More significant job opportunities in the healthcare industry like healthcare sector, including for healthcare providers, support staff, and technology experts. This can provide a boost to local economies and help to reduce unemployment.#Jobs\n",
      "Better care for chronic conditions: Telemedicine can help patients with chronic conditions to manage their health more effectively, allowing them to receive regular check-ups and treatment without the need to travel long distances. This can improve the quality of life for these individuals and reduce the risk of complications from their conditions.\n",
      "Increased flexibility for patients and healthcare providers: Telemedicine allows patients and providers to schedule consultations at times convenient for them, improving the overall flexibility of the healthcare system. This can help to reduce wait times and improve patient satisfaction.\n",
      "Increased accessibility: Telemedicine makes healthcare more accessible to people living in rural and remote areas, who may not have easy access to medical facilities. With telemedicine, patients can consult with doctors and specialists from their homes using their phones, computers, or other devices. This means that more people will be able to get the medical care they need, regardless of where they live.\n",
      "Reduced costs: One of the most significant benefits of telemedicine is that it can reduce healthcare costs. Patients can avoid the costs of travel, accommodation, and time off work associated with in-person visits to the doctor. Telemedicine can also help reduce the cost of medical procedures, as doctors can remotely monitor patients and provide care without needing hospitalization.\n",
      "Improved health outcomes: By providing patients with access to medical care from the comfort of their own homes, telemedicine can help improve their health outcomes. For example, patients with chronic conditions can use telemedicine to manage their symptoms and reduce the risk of complications. Telemedicine can also help prevent the spread of infectious diseases, as patients can receive care without contacting other people.\n",
      "Increased convenience: Telemedicine offers a more convenient option for patients who need medical care. With telemedicine, patients can schedule appointments and consult with doctors at a convenient time without having to take time off work or arrange transportation. This can be especially beneficial for people with busy schedules or mobility issues.\n",
      "Telemedicine, or the use of electronic communication and information technologies to provide healthcare services remotely, has the potential to significantly impact the way we receive and deliver medical care. In the next 20 years, telemedicine will likely become an increasingly important part of our healthcare system, providing numerous benefits and improving the livelihood of many people.\n",
      "The benefits of telemedicine are numerous. For patients, it provides convenient access to medical care without traveling long distances. It also allows for faster diagnosis and treatment and improved continuity of care. For healthcare providers, telemedicine can reduce the strain on already-overburdened healthcare systems and make providing care to patients in remote areas more accessible.\n",
      "The rise of telemedicine will likely significantly impact how we receive medical care in the future. By 2040, it is estimated that telemedicine will be a standard part of the healthcare landscape, with more and more doctors using it to diagnose and treat patients remotely.\n",
      "One of the key drivers of the rise of telemedicine has been the increasing availability of high-speed internet and improved video conferencing tools. In the past, the video and audio quality of telemedicine consultations were often poor, making it difficult for doctors to diagnose and treat patients accurately. However, with faster internet speeds and better video conferencing tools, telemedicine consultations are just as good as in-person visits.\n",
      "Telemedicine makes healthcare more accessible. With telemedicine, patients no longer travel long distances to see a doctor or specialist. Instead, they can receive care from the comfort of their own home. This is particularly beneficial for people living in rural areas, where access to healthcare can be limited.\n",
      "Another factor contributing to the rise of telemedicine is the increasing demand for healthcare services. With the global population growing and people living longer, the need for medical care will only continue to increase. Telemedicine offers a way for healthcare providers to meet this demand by allowing them to provide care to more patients in a shorter amount of time.\n",
      "Another substantial impact of telemedicine is that it can improve patient quality of care. By using technology to connect patients with doctors, telemedicine can help ensure patients receive the best care possible. For example, a doctor can use video conferencing to consult with a specialist or use remote monitoring devices to track a patient’s vital signs. This can help doctors make more informed decisions and provide better treatment.\n",
      "Telemedicine also has the potential to reduce healthcare costs. By allowing patients to receive care from their homes, telemedicine can reduce the need for expensive hospital visits. In addition, telemedicine can help prevent the spread of infectious diseases, reducing healthcare costs by avoiding hospitalization.\n",
      "One of the critical impacts of telemedicine is that it can improve the patient experience. By providing patients with the ability to receive care from the comfort of their own homes, telemedicine can help reduce anxiety and stress. In addition, telemedicine can make it easier for patients to communicate with their doctors and get the answers they need.\n",
      "Another way in which telemedicine will impact people’s livelihoods is by making healthcare more efficient. By allowing doctors to diagnose and treat patients remotely, telemedicine will help reduce the time patients spend waiting to see a doctor. It will also help reduce doctors’ spending on administrative tasks, freeing them up to see more patients and provide better care.\n",
      "One major factor driving the rise of telemedicine is the increasing use of technology in healthcare. With advances in communication and medical technology, it is now possible for doctors and other healthcare providers to remotely diagnose and treat patients using video conferencing, remote monitoring, and other forms of telemedicine. This not only allows for more efficient and convenient healthcare delivery but also enables healthcare providers to offer specialized care to patients who otherwise may not have access to it.\n",
      "Another factor contributing to the rise of telemedicine is the need for improved access to healthcare. Patients may travel long distances in many rural and underserved areas; patients may travel long distances to access medical care. Telemedicine can bridge this gap by allowing patients in these areas to consult with healthcare providers remotely. This not only improves access to healthcare but also reduces the need for patients to travel long distances, saving them time and money.\n",
      "Finally, telemedicine’s rise is also driven by the growing trend of remote work. As more and more people work from home or other remote locations, the need for convenient and accessible healthcare is increasing. Telemedicine allows employees to consult with healthcare providers from their homes, reducing the need for them to take time off work to visit a doctor or other healthcare provider.\n",
      "Overall, the rise of telemedicine by 2040 is a result of a combination of factors, including the increasing use of technology in healthcare, the need for improved access to healthcare, and the growing trend of remote work. As these factors continue to evolve, likely, telemedicine will likely become an increasingly important part of the healthcare landscape.\n",
      "However, the rise of telemedicine is also likely to present some challenges. For example, telemedicine consultations may only be suitable for some medical conditions, and some patients may still need to see a doctor. Additionally, telemedicine may put some jobs at risk, such as receptionists and other administrative staff in healthcare facilities.\n",
      "Blackcoffer Insights 46: G.K.Harish Balaji, Indian Institute of Technology,Madras\n",
      "\n"
     ]
    }
   ],
   "source": [
    "# import required modules\n",
    "# extract title1 and content1 from selected url\n",
    "\n",
    "import requests\n",
    "from bs4 import BeautifulSoup\n",
    "\n",
    "url = \"https://insights.blackcoffer.com/rise-of-telemedicine-and-its-impact-on-livelihood-by-2040-3-2/\"\n",
    "\n",
    "try:\n",
    "    response = requests.get(url)\n",
    "    response.raise_for_status()  # Check for HTTP errors\n",
    "    html_content = response.text\n",
    "    \n",
    "    soup = BeautifulSoup(html_content, \"html.parser\")\n",
    "    \n",
    "    target_title1 = soup.find(\"h1\", class_=\"entry-title\")\n",
    "    target_content1 = soup.find(\"div\", class_=\"td-post-content tagdiv-type\")\n",
    "    \n",
    "    if target_title1:\n",
    "        extracted_title1 = target_title1.get_text()\n",
    "        print('Title : ', extracted_title1)\n",
    "    \n",
    "    if target_content1:\n",
    "        extracted_content1 = target_content1.get_text()\n",
    "        print('Content : ', extracted_content1)\n",
    "        \n",
    "    else:\n",
    "        print(\"Target area not found on the page.\")\n",
    "except requests.exceptions.RequestException as e:\n",
    "    print(\"Error fetching the URL:\", e)\n",
    "\n"
   ]
  },
  {
   "cell_type": "code",
   "execution_count": 2,
   "id": "99ac79a7",
   "metadata": {},
   "outputs": [
    {
     "name": "stdout",
     "output_type": "stream",
     "text": [
      "Number of words in content : 1663\n"
     ]
    }
   ],
   "source": [
    "# count the number of words from content1\n",
    "\n",
    "word_count_content1 = len(extracted_content1.split())\n",
    "print(\"Number of words in content :\", word_count_content1)"
   ]
  },
  {
   "cell_type": "code",
   "execution_count": 3,
   "id": "4f60ca37",
   "metadata": {},
   "outputs": [
    {
     "name": "stdout",
     "output_type": "stream",
     "text": [
      "Number of words in title : 10\n"
     ]
    }
   ],
   "source": [
    "# count the number of words from title1\n",
    "\n",
    "word_count_title1 = len(extracted_title1.split())\n",
    "print(\"Number of words in title :\", word_count_title1)"
   ]
  },
  {
   "cell_type": "code",
   "execution_count": 12,
   "id": "c54a8213",
   "metadata": {},
   "outputs": [
    {
     "name": "stdout",
     "output_type": "stream",
     "text": [
      "Number of Sentences in Content : 87\n"
     ]
    }
   ],
   "source": [
    "# count the number of sentences from content1\n",
    "\n",
    "sentence_count_content1 = len(extracted_content1.split(\".\"))\n",
    "print(\"Number of Sentences in Content :\", sentence_count_content1)"
   ]
  },
  {
   "cell_type": "code",
   "execution_count": 11,
   "id": "c1a895ad",
   "metadata": {},
   "outputs": [
    {
     "name": "stdout",
     "output_type": "stream",
     "text": [
      "\n",
      "\n",
      " Words List :  ['\\nTelemedicine,', 'the', 'use', 'of', 'technology', 'to', 'diagnose', 'and', 'treat', 'patients', 'remotely,', 'has', 'been', 'rising', 'in', 'recent', 'years.', 'With', 'the', 'advent', 'of', 'high-speed', 'internet', 'and', 'improved', 'video', 'conferencing', 'tools,', 'healthcare', 'providers', 'are', 'increasingly', 'turning', 'to', 'telemedicine', 'to', 'provide', 'care', 'to', 'patients', 'in', 'remote', 'or', 'underserved', 'areas.\\nTelemedicine,', 'using', 'technology', 'to', 'provide', 'healthcare', 'services', 'remotely,', 'has', 'recently', 'gained', 'popularity.', 'With', 'advancements', 'in', 'communication', 'and', 'medical', 'technology,', 'it', 'has', 'become', 'increasingly', 'possible', 'for', 'doctors', 'and', 'patients', 'to', 'connect', 'and', 'interact', 'from', 'anywhere', 'in', 'the', 'world.', 'This', 'has', 'led', 'to', 'the', 'rise', 'of', 'telemedicine,', 'which', 'has', 'the', 'potential', 'to', 'revolutionize', 'the', 'way', 'healthcare', 'is', 'delivered.#Telemedicine\\nThe', 'increasing', 'focus', 'on', 'preventative', 'healthcare', 'has', 'also', 'driven', 'the', 'rise', 'of', 'telemedicine.', 'As', 'more', 'and', 'more', 'people', 'become', 'aware', 'of', 'the', 'importance', 'of', 'staying', 'healthy,', 'they', 'are', 'looking', 'for', 'ways', 'to', 'prevent', 'illness', 'and', 'maintain', 'their', 'health.', 'Telemedicine', 'allows', 'people', 'to', 'monitor', 'their', 'health', 'and', 'get', 'advice', 'from', 'healthcare', 'providers', 'without', 'traveling', 'to', 'a', 'clinic', 'or', 'hospital.\\nImproved', 'access', 'to', 'healthcare:', 'One', 'of', 'the', 'biggest', 'challenges', 'in', 'the', 'healthcare', 'industry', 'is', 'the', 'unequal', 'distribution', 'of', 'medical', 'resources,', 'with', 'many', 'remote', 'and', 'rural', 'areas', 'lacking', 'access', 'to', 'quality', 'care.', 'Telemedicine', 'can', 'help', 'bridge', 'this', 'gap', 'by', 'allowing', 'patients', 'in', 'these', 'underserved', 'areas', 'to', 'connect', 'with', 'healthcare', 'providers', 'worldwide.', 'This', 'can', 'give', 'people', 'access', 'to', 'specialized', 'medical', 'care', 'that', 'they', 'would', 'otherwise', 'not', 'be', 'able', 'to', 'receive,', 'improving', 'their', 'health', 'and', 'overall', 'well-being.#Healthcare\\nGreater', 'convenience', 'and', 'flexibility:', 'Telemedicine', 'also', 'offers', 'a', 'level', 'of', 'convenience', 'and', 'flexibility', 'that', 'is', 'impossible', 'with', 'traditional', 'in-person', 'medical', 'visits.', 'Patients', 'can', 'consult', 'with', 'their', 'healthcare', 'providers', 'from', 'the', 'comfort', 'of', 'their', 'own', 'homes,', 'saving', 'time', 'and', 'money', 'on', 'travel.', 'This', 'is', 'particularly', 'beneficial', 'for', 'individuals', 'who', 'have', 'mobility', 'issues', 'or', 'who', 'live', 'in', 'areas', 'with', 'limited', 'access', 'to', 'medical', 'facilities.\\nReduced', 'healthcare', 'costs:', 'By', 'enabling', 'patients', 'to', 'receive', 'care', 'remotely,', 'telemedicine', 'can', 'help', 'reduce', 'the', 'overall', 'cost', 'of', 'healthcare.', 'This', 'is', 'because', 'telemedicine', 'visits', 'are', 'generally', 'less', 'expensive', 'than', 'in-person', 'visits', 'and', 'can', 'help', 'prevent', 'the', 'need', 'for', 'more', 'costly', 'interventions,', 'such', 'as', 'hospitalizations.', 'As', 'a', 'result,', 'telemedicine', 'has', 'the', 'potential', 'to', 'make', 'healthcare', 'more', 'affordable', 'for', 'patients', 'and', 'healthcare', 'providers', 'alike.#Costs\\nEnhanced', 'healthcare', 'outcomes:', 'Telemedicine', 'can', 'also', 'improve', 'patients’', 'quality', 'of', 'care.', 'By', 'allowing', 'healthcare', 'providers', 'to', 'access', 'medical', 'records', 'and', 'other', 'important', 'information', 'remotely,', 'telemedicine', 'can', 'help', 'ensure', 'that', 'patients', 'receive', 'the', 'most', 'appropriate', 'care', 'for', 'their', 'needs.', 'This', 'can', 'lead', 'to', 'better', 'health', 'outcomes', 'and', 'a', 'higher', 'quality', 'of', 'life', 'for', 'patients.#Enhanced\\nMore', 'significant', 'job', 'opportunities', 'in', 'the', 'healthcare', 'industry', 'like', 'healthcare', 'sector,', 'including', 'for', 'healthcare', 'providers,', 'support', 'staff,', 'and', 'technology', 'experts.', 'This', 'can', 'provide', 'a', 'boost', 'to', 'local', 'economies', 'and', 'help', 'to', 'reduce', 'unemployment.#Jobs\\nBetter', 'care', 'for', 'chronic', 'conditions:', 'Telemedicine', 'can', 'help', 'patients', 'with', 'chronic', 'conditions', 'to', 'manage', 'their', 'health', 'more', 'effectively,', 'allowing', 'them', 'to', 'receive', 'regular', 'check-ups', 'and', 'treatment', 'without', 'the', 'need', 'to', 'travel', 'long', 'distances.', 'This', 'can', 'improve', 'the', 'quality', 'of', 'life', 'for', 'these', 'individuals', 'and', 'reduce', 'the', 'risk', 'of', 'complications', 'from', 'their', 'conditions.\\nIncreased', 'flexibility', 'for', 'patients', 'and', 'healthcare', 'providers:', 'Telemedicine', 'allows', 'patients', 'and', 'providers', 'to', 'schedule', 'consultations', 'at', 'times', 'convenient', 'for', 'them,', 'improving', 'the', 'overall', 'flexibility', 'of', 'the', 'healthcare', 'system.', 'This', 'can', 'help', 'to', 'reduce', 'wait', 'times', 'and', 'improve', 'patient', 'satisfaction.\\nIncreased', 'accessibility:', 'Telemedicine', 'makes', 'healthcare', 'more', 'accessible', 'to', 'people', 'living', 'in', 'rural', 'and', 'remote', 'areas,', 'who', 'may', 'not', 'have', 'easy', 'access', 'to', 'medical', 'facilities.', 'With', 'telemedicine,', 'patients', 'can', 'consult', 'with', 'doctors', 'and', 'specialists', 'from', 'their', 'homes', 'using', 'their', 'phones,', 'computers,', 'or', 'other', 'devices.', 'This', 'means', 'that', 'more', 'people', 'will', 'be', 'able', 'to', 'get', 'the', 'medical', 'care', 'they', 'need,', 'regardless', 'of', 'where', 'they', 'live.\\nReduced', 'costs:', 'One', 'of', 'the', 'most', 'significant', 'benefits', 'of', 'telemedicine', 'is', 'that', 'it', 'can', 'reduce', 'healthcare', 'costs.', 'Patients', 'can', 'avoid', 'the', 'costs', 'of', 'travel,', 'accommodation,', 'and', 'time', 'off', 'work', 'associated', 'with', 'in-person', 'visits', 'to', 'the', 'doctor.', 'Telemedicine', 'can', 'also', 'help', 'reduce', 'the', 'cost', 'of', 'medical', 'procedures,', 'as', 'doctors', 'can', 'remotely', 'monitor', 'patients', 'and', 'provide', 'care', 'without', 'needing', 'hospitalization.\\nImproved', 'health', 'outcomes:', 'By', 'providing', 'patients', 'with', 'access', 'to', 'medical', 'care', 'from', 'the', 'comfort', 'of', 'their', 'own', 'homes,', 'telemedicine', 'can', 'help', 'improve', 'their', 'health', 'outcomes.', 'For', 'example,', 'patients', 'with', 'chronic', 'conditions', 'can', 'use', 'telemedicine', 'to', 'manage', 'their', 'symptoms', 'and', 'reduce', 'the', 'risk', 'of', 'complications.', 'Telemedicine', 'can', 'also', 'help', 'prevent', 'the', 'spread', 'of', 'infectious', 'diseases,', 'as', 'patients', 'can', 'receive', 'care', 'without', 'contacting', 'other', 'people.\\nIncreased', 'convenience:', 'Telemedicine', 'offers', 'a', 'more', 'convenient', 'option', 'for', 'patients', 'who', 'need', 'medical', 'care.', 'With', 'telemedicine,', 'patients', 'can', 'schedule', 'appointments', 'and', 'consult', 'with', 'doctors', 'at', 'a', 'convenient', 'time', 'without', 'having', 'to', 'take', 'time', 'off', 'work', 'or', 'arrange', 'transportation.', 'This', 'can', 'be', 'especially', 'beneficial', 'for', 'people', 'with', 'busy', 'schedules', 'or', 'mobility', 'issues.\\nTelemedicine,', 'or', 'the', 'use', 'of', 'electronic', 'communication', 'and', 'information', 'technologies', 'to', 'provide', 'healthcare', 'services', 'remotely,', 'has', 'the', 'potential', 'to', 'significantly', 'impact', 'the', 'way', 'we', 'receive', 'and', 'deliver', 'medical', 'care.', 'In', 'the', 'next', '20', 'years,', 'telemedicine', 'will', 'likely', 'become', 'an', 'increasingly', 'important', 'part', 'of', 'our', 'healthcare', 'system,', 'providing', 'numerous', 'benefits', 'and', 'improving', 'the', 'livelihood', 'of', 'many', 'people.\\nThe', 'benefits', 'of', 'telemedicine', 'are', 'numerous.', 'For', 'patients,', 'it', 'provides', 'convenient', 'access', 'to', 'medical', 'care', 'without', 'traveling', 'long', 'distances.', 'It', 'also', 'allows', 'for', 'faster', 'diagnosis', 'and', 'treatment', 'and', 'improved', 'continuity', 'of', 'care.', 'For', 'healthcare', 'providers,', 'telemedicine', 'can', 'reduce', 'the', 'strain', 'on', 'already-overburdened', 'healthcare', 'systems', 'and', 'make', 'providing', 'care', 'to', 'patients', 'in', 'remote', 'areas', 'more', 'accessible.\\nThe', 'rise', 'of', 'telemedicine', 'will', 'likely', 'significantly', 'impact', 'how', 'we', 'receive', 'medical', 'care', 'in', 'the', 'future.', 'By', '2040,', 'it', 'is', 'estimated', 'that', 'telemedicine', 'will', 'be', 'a', 'standard', 'part', 'of', 'the', 'healthcare', 'landscape,', 'with', 'more', 'and', 'more', 'doctors', 'using', 'it', 'to', 'diagnose', 'and', 'treat', 'patients', 'remotely.\\nOne', 'of', 'the', 'key', 'drivers', 'of', 'the', 'rise', 'of', 'telemedicine', 'has', 'been', 'the', 'increasing', 'availability', 'of', 'high-speed', 'internet', 'and', 'improved', 'video', 'conferencing', 'tools.', 'In', 'the', 'past,', 'the', 'video', 'and', 'audio', 'quality', 'of', 'telemedicine', 'consultations', 'were', 'often', 'poor,', 'making', 'it', 'difficult', 'for', 'doctors', 'to', 'diagnose', 'and', 'treat', 'patients', 'accurately.', 'However,', 'with', 'faster', 'internet', 'speeds', 'and', 'better', 'video', 'conferencing', 'tools,', 'telemedicine', 'consultations', 'are', 'just', 'as', 'good', 'as', 'in-person', 'visits.\\nTelemedicine', 'makes', 'healthcare', 'more', 'accessible.', 'With', 'telemedicine,', 'patients', 'no', 'longer', 'travel', 'long', 'distances', 'to', 'see', 'a', 'doctor', 'or', 'specialist.', 'Instead,', 'they', 'can', 'receive', 'care', 'from', 'the', 'comfort', 'of', 'their', 'own', 'home.', 'This', 'is', 'particularly', 'beneficial', 'for', 'people', 'living', 'in', 'rural', 'areas,', 'where', 'access', 'to', 'healthcare', 'can', 'be', 'limited.\\nAnother', 'factor', 'contributing', 'to', 'the', 'rise', 'of', 'telemedicine', 'is', 'the', 'increasing', 'demand', 'for', 'healthcare', 'services.', 'With', 'the', 'global', 'population', 'growing', 'and', 'people', 'living', 'longer,', 'the', 'need', 'for', 'medical', 'care', 'will', 'only', 'continue', 'to', 'increase.', 'Telemedicine', 'offers', 'a', 'way', 'for', 'healthcare', 'providers', 'to', 'meet', 'this', 'demand', 'by', 'allowing', 'them', 'to', 'provide', 'care', 'to', 'more', 'patients', 'in', 'a', 'shorter', 'amount', 'of', 'time.\\nAnother', 'substantial', 'impact', 'of', 'telemedicine', 'is', 'that', 'it', 'can', 'improve', 'patient', 'quality', 'of', 'care.', 'By', 'using', 'technology', 'to', 'connect', 'patients', 'with', 'doctors,', 'telemedicine', 'can', 'help', 'ensure', 'patients', 'receive', 'the', 'best', 'care', 'possible.', 'For', 'example,', 'a', 'doctor', 'can', 'use', 'video', 'conferencing', 'to', 'consult', 'with', 'a', 'specialist', 'or', 'use', 'remote', 'monitoring', 'devices', 'to', 'track', 'a', 'patient’s', 'vital', 'signs.', 'This', 'can', 'help', 'doctors', 'make', 'more', 'informed', 'decisions', 'and', 'provide', 'better', 'treatment.\\nTelemedicine', 'also', 'has', 'the', 'potential', 'to', 'reduce', 'healthcare', 'costs.', 'By', 'allowing', 'patients', 'to', 'receive', 'care', 'from', 'their', 'homes,', 'telemedicine', 'can', 'reduce', 'the', 'need', 'for', 'expensive', 'hospital', 'visits.', 'In', 'addition,', 'telemedicine', 'can', 'help', 'prevent', 'the', 'spread', 'of', 'infectious', 'diseases,', 'reducing', 'healthcare', 'costs', 'by', 'avoiding', 'hospitalization.\\nOne', 'of', 'the', 'critical', 'impacts', 'of', 'telemedicine', 'is', 'that', 'it', 'can', 'improve', 'the', 'patient', 'experience.', 'By', 'providing', 'patients', 'with', 'the', 'ability', 'to', 'receive', 'care', 'from', 'the', 'comfort', 'of', 'their', 'own', 'homes,', 'telemedicine', 'can', 'help', 'reduce', 'anxiety', 'and', 'stress.', 'In', 'addition,', 'telemedicine', 'can', 'make', 'it', 'easier', 'for', 'patients', 'to', 'communicate', 'with', 'their', 'doctors', 'and', 'get', 'the', 'answers', 'they', 'need.\\nAnother', 'way', 'in', 'which', 'telemedicine', 'will', 'impact', 'people’s', 'livelihoods', 'is', 'by', 'making', 'healthcare', 'more', 'efficient.', 'By', 'allowing', 'doctors', 'to', 'diagnose', 'and', 'treat', 'patients', 'remotely,', 'telemedicine', 'will', 'help', 'reduce', 'the', 'time', 'patients', 'spend', 'waiting', 'to', 'see', 'a', 'doctor.', 'It', 'will', 'also', 'help', 'reduce', 'doctors’', 'spending', 'on', 'administrative', 'tasks,', 'freeing', 'them', 'up', 'to', 'see', 'more', 'patients', 'and', 'provide', 'better', 'care.\\nOne', 'major', 'factor', 'driving', 'the', 'rise', 'of', 'telemedicine', 'is', 'the', 'increasing', 'use', 'of', 'technology', 'in', 'healthcare.', 'With', 'advances', 'in', 'communication', 'and', 'medical', 'technology,', 'it', 'is', 'now', 'possible', 'for', 'doctors', 'and', 'other', 'healthcare', 'providers', 'to', 'remotely', 'diagnose', 'and', 'treat', 'patients', 'using', 'video', 'conferencing,', 'remote', 'monitoring,', 'and', 'other', 'forms', 'of', 'telemedicine.', 'This', 'not', 'only', 'allows', 'for', 'more', 'efficient', 'and', 'convenient', 'healthcare', 'delivery', 'but', 'also', 'enables', 'healthcare', 'providers', 'to', 'offer', 'specialized', 'care', 'to', 'patients', 'who', 'otherwise', 'may', 'not', 'have', 'access', 'to', 'it.\\nAnother', 'factor', 'contributing', 'to', 'the', 'rise', 'of', 'telemedicine', 'is', 'the', 'need', 'for', 'improved', 'access', 'to', 'healthcare.', 'Patients', 'may', 'travel', 'long', 'distances', 'in', 'many', 'rural', 'and', 'underserved', 'areas;', 'patients', 'may', 'travel', 'long', 'distances', 'to', 'access', 'medical', 'care.', 'Telemedicine', 'can', 'bridge', 'this', 'gap', 'by', 'allowing', 'patients', 'in', 'these', 'areas', 'to', 'consult', 'with', 'healthcare', 'providers', 'remotely.', 'This', 'not', 'only', 'improves', 'access', 'to', 'healthcare', 'but', 'also', 'reduces', 'the', 'need', 'for', 'patients', 'to', 'travel', 'long', 'distances,', 'saving', 'them', 'time', 'and', 'money.\\nFinally,', 'telemedicine’s', 'rise', 'is', 'also', 'driven', 'by', 'the', 'growing', 'trend', 'of', 'remote', 'work.', 'As', 'more', 'and', 'more', 'people', 'work', 'from', 'home', 'or', 'other', 'remote', 'locations,', 'the', 'need', 'for', 'convenient', 'and', 'accessible', 'healthcare', 'is', 'increasing.', 'Telemedicine', 'allows', 'employees', 'to', 'consult', 'with', 'healthcare', 'providers', 'from', 'their', 'homes,', 'reducing', 'the', 'need', 'for', 'them', 'to', 'take', 'time', 'off', 'work', 'to', 'visit', 'a', 'doctor', 'or', 'other', 'healthcare', 'provider.\\nOverall,', 'the', 'rise', 'of', 'telemedicine', 'by', '2040', 'is', 'a', 'result', 'of', 'a', 'combination', 'of', 'factors,', 'including', 'the', 'increasing', 'use', 'of', 'technology', 'in', 'healthcare,', 'the', 'need', 'for', 'improved', 'access', 'to', 'healthcare,', 'and', 'the', 'growing', 'trend', 'of', 'remote', 'work.', 'As', 'these', 'factors', 'continue', 'to', 'evolve,', 'likely,', 'telemedicine', 'will', 'likely', 'become', 'an', 'increasingly', 'important', 'part', 'of', 'the', 'healthcare', 'landscape.\\nHowever,', 'the', 'rise', 'of', 'telemedicine', 'is', 'also', 'likely', 'to', 'present', 'some', 'challenges.', 'For', 'example,', 'telemedicine', 'consultations', 'may', 'only', 'be', 'suitable', 'for', 'some', 'medical', 'conditions,', 'and', 'some', 'patients', 'may', 'still', 'need', 'to', 'see', 'a', 'doctor.', 'Additionally,', 'telemedicine', 'may', 'put', 'some', 'jobs', 'at', 'risk,', 'such', 'as', 'receptionists', 'and', 'other', 'administrative', 'staff', 'in', 'healthcare', 'facilities.\\nBlackcoffer', 'Insights', '46:', 'G.K.Harish', 'Balaji,', 'Indian', 'Institute', 'of', 'Technology,Madras\\n']\n",
      "\n",
      "\n",
      "Sentence List :  ['\\nTelemedicine, the use of technology to diagnose and treat patients remotely, has been rising in recent years', ' With the advent of high-speed internet and improved video conferencing tools, healthcare providers are increasingly turning to telemedicine to provide care to patients in remote or underserved areas', '\\nTelemedicine, using technology to provide healthcare services remotely, has recently gained popularity', ' With advancements in communication and medical technology, it has become increasingly possible for doctors and patients to connect and interact from anywhere in the world', ' This has led to the rise of telemedicine, which has the potential to revolutionize the way healthcare is delivered', '#Telemedicine\\nThe increasing focus on preventative healthcare has also driven the rise of telemedicine', ' As more and more people become aware of the importance of staying healthy, they are looking for ways to prevent illness and maintain their health', ' Telemedicine allows people to monitor their health and get advice from healthcare providers without traveling to a clinic or hospital', '\\nImproved access to healthcare: One of the biggest challenges in the healthcare industry is the unequal distribution of medical resources, with many remote and rural areas lacking access to quality care', ' Telemedicine can help bridge this gap by allowing patients in these underserved areas to connect with healthcare providers worldwide', ' This can give people access to specialized medical care that they would otherwise not be able to receive, improving their health and overall well-being', '#Healthcare\\nGreater convenience and flexibility: Telemedicine also offers a level of convenience and flexibility that is impossible with traditional in-person medical visits', ' Patients can consult with their healthcare providers from the comfort of their own homes, saving time and money on travel', ' This is particularly beneficial for individuals who have mobility issues or who live in areas with limited access to medical facilities', '\\nReduced healthcare costs: By enabling patients to receive care remotely, telemedicine can help reduce the overall cost of healthcare', ' This is because telemedicine visits are generally less expensive than in-person visits and can help prevent the need for more costly interventions, such as hospitalizations', ' As a result, telemedicine has the potential to make healthcare more affordable for patients and healthcare providers alike', '#Costs\\nEnhanced healthcare outcomes: Telemedicine can also improve patients’ quality of care', ' By allowing healthcare providers to access medical records and other important information remotely, telemedicine can help ensure that patients receive the most appropriate care for their needs', ' This can lead to better health outcomes and a higher quality of life for patients', '#Enhanced\\nMore significant job opportunities in the healthcare industry like healthcare sector, including for healthcare providers, support staff, and technology experts', ' This can provide a boost to local economies and help to reduce unemployment', '#Jobs\\nBetter care for chronic conditions: Telemedicine can help patients with chronic conditions to manage their health more effectively, allowing them to receive regular check-ups and treatment without the need to travel long distances', ' This can improve the quality of life for these individuals and reduce the risk of complications from their conditions', '\\nIncreased flexibility for patients and healthcare providers: Telemedicine allows patients and providers to schedule consultations at times convenient for them, improving the overall flexibility of the healthcare system', ' This can help to reduce wait times and improve patient satisfaction', '\\nIncreased accessibility: Telemedicine makes healthcare more accessible to people living in rural and remote areas, who may not have easy access to medical facilities', ' With telemedicine, patients can consult with doctors and specialists from their homes using their phones, computers, or other devices', ' This means that more people will be able to get the medical care they need, regardless of where they live', '\\nReduced costs: One of the most significant benefits of telemedicine is that it can reduce healthcare costs', ' Patients can avoid the costs of travel, accommodation, and time off work associated with in-person visits to the doctor', ' Telemedicine can also help reduce the cost of medical procedures, as doctors can remotely monitor patients and provide care without needing hospitalization', '\\nImproved health outcomes: By providing patients with access to medical care from the comfort of their own homes, telemedicine can help improve their health outcomes', ' For example, patients with chronic conditions can use telemedicine to manage their symptoms and reduce the risk of complications', ' Telemedicine can also help prevent the spread of infectious diseases, as patients can receive care without contacting other people', '\\nIncreased convenience: Telemedicine offers a more convenient option for patients who need medical care', ' With telemedicine, patients can schedule appointments and consult with doctors at a convenient time without having to take time off work or arrange transportation', ' This can be especially beneficial for people with busy schedules or mobility issues', '\\nTelemedicine, or the use of electronic communication and information technologies to provide healthcare services remotely, has the potential to significantly impact the way we receive and deliver medical care', ' In the next 20 years, telemedicine will likely become an increasingly important part of our healthcare system, providing numerous benefits and improving the livelihood of many people', '\\nThe benefits of telemedicine are numerous', ' For patients, it provides convenient access to medical care without traveling long distances', ' It also allows for faster diagnosis and treatment and improved continuity of care', ' For healthcare providers, telemedicine can reduce the strain on already-overburdened healthcare systems and make providing care to patients in remote areas more accessible', '\\nThe rise of telemedicine will likely significantly impact how we receive medical care in the future', ' By 2040, it is estimated that telemedicine will be a standard part of the healthcare landscape, with more and more doctors using it to diagnose and treat patients remotely', '\\nOne of the key drivers of the rise of telemedicine has been the increasing availability of high-speed internet and improved video conferencing tools', ' In the past, the video and audio quality of telemedicine consultations were often poor, making it difficult for doctors to diagnose and treat patients accurately', ' However, with faster internet speeds and better video conferencing tools, telemedicine consultations are just as good as in-person visits', '\\nTelemedicine makes healthcare more accessible', ' With telemedicine, patients no longer travel long distances to see a doctor or specialist', ' Instead, they can receive care from the comfort of their own home', ' This is particularly beneficial for people living in rural areas, where access to healthcare can be limited', '\\nAnother factor contributing to the rise of telemedicine is the increasing demand for healthcare services', ' With the global population growing and people living longer, the need for medical care will only continue to increase', ' Telemedicine offers a way for healthcare providers to meet this demand by allowing them to provide care to more patients in a shorter amount of time', '\\nAnother substantial impact of telemedicine is that it can improve patient quality of care', ' By using technology to connect patients with doctors, telemedicine can help ensure patients receive the best care possible', ' For example, a doctor can use video conferencing to consult with a specialist or use remote monitoring devices to track a patient’s vital signs', ' This can help doctors make more informed decisions and provide better treatment', '\\nTelemedicine also has the potential to reduce healthcare costs', ' By allowing patients to receive care from their homes, telemedicine can reduce the need for expensive hospital visits', ' In addition, telemedicine can help prevent the spread of infectious diseases, reducing healthcare costs by avoiding hospitalization', '\\nOne of the critical impacts of telemedicine is that it can improve the patient experience', ' By providing patients with the ability to receive care from the comfort of their own homes, telemedicine can help reduce anxiety and stress', ' In addition, telemedicine can make it easier for patients to communicate with their doctors and get the answers they need', '\\nAnother way in which telemedicine will impact people’s livelihoods is by making healthcare more efficient', ' By allowing doctors to diagnose and treat patients remotely, telemedicine will help reduce the time patients spend waiting to see a doctor', ' It will also help reduce doctors’ spending on administrative tasks, freeing them up to see more patients and provide better care', '\\nOne major factor driving the rise of telemedicine is the increasing use of technology in healthcare', ' With advances in communication and medical technology, it is now possible for doctors and other healthcare providers to remotely diagnose and treat patients using video conferencing, remote monitoring, and other forms of telemedicine', ' This not only allows for more efficient and convenient healthcare delivery but also enables healthcare providers to offer specialized care to patients who otherwise may not have access to it', '\\nAnother factor contributing to the rise of telemedicine is the need for improved access to healthcare', ' Patients may travel long distances in many rural and underserved areas; patients may travel long distances to access medical care', ' Telemedicine can bridge this gap by allowing patients in these areas to consult with healthcare providers remotely', ' This not only improves access to healthcare but also reduces the need for patients to travel long distances, saving them time and money', '\\nFinally, telemedicine’s rise is also driven by the growing trend of remote work', ' As more and more people work from home or other remote locations, the need for convenient and accessible healthcare is increasing', ' Telemedicine allows employees to consult with healthcare providers from their homes, reducing the need for them to take time off work to visit a doctor or other healthcare provider', '\\nOverall, the rise of telemedicine by 2040 is a result of a combination of factors, including the increasing use of technology in healthcare, the need for improved access to healthcare, and the growing trend of remote work', ' As these factors continue to evolve, likely, telemedicine will likely become an increasingly important part of the healthcare landscape', '\\nHowever, the rise of telemedicine is also likely to present some challenges', ' For example, telemedicine consultations may only be suitable for some medical conditions, and some patients may still need to see a doctor', ' Additionally, telemedicine may put some jobs at risk, such as receptionists and other administrative staff in healthcare facilities', '\\nBlackcoffer Insights 46: G', 'K', 'Harish Balaji, Indian Institute of Technology,Madras\\n']\n"
     ]
    }
   ],
   "source": [
    "# save words into list\n",
    "\n",
    "content_list1 = extracted_content1.split(\" \")\n",
    "print('\\n\\n Words List : ', content_list1)\n",
    "\n",
    "# save sentences into list\n",
    "\n",
    "content_sentence_list1 = extracted_content1.split(\".\")\n",
    "print('\\n\\nSentence List : ',content_sentence_list1)"
   ]
  },
  {
   "cell_type": "code",
   "execution_count": 5,
   "id": "394fdaed",
   "metadata": {},
   "outputs": [
    {
     "name": "stdout",
     "output_type": "stream",
     "text": [
      "\n",
      "\n",
      "Total Positive Words :  60\n",
      "\n",
      "\n",
      "Positive words: ['help', 'beneficial', 'bridge', 'advances', 'receive', 'better', 'high-speed', 'flexibility', 'easier', 'prevent', 'rise', 'allowing', 'accessible', 'increasingly', 'continue', 'avoiding', 'care', 'rising', 'increasing', 'support', 'convenient', 'consult', 'availability', 'efficient', 'able', 'continuity', 'affordable', 'aware', 'outcomes', 'associated', 'offer', 'challenges', 'good', 'enables', 'comfort', 'saving', 'freeing', 'opportunities', 'benefits', 'lead', 'convenience', 'give', 'higher', 'significant', 'decisions', 'ability', 'improved', 'improving', 'improve', 'boost', 'easy', 'allows', 'get', 'likely', 'faster', 'informed', 'like', 'quality', 'significantly', 'ensure']\n",
      "\n",
      "\n",
      "Total Negative Words :  24\n",
      "\n",
      "\n",
      "Negative words: ['gap', 'not', 'busy', 'waiting', 'impact', 'less', 'strain', 'already-overburdened', 'avoid', 'infectious', 'reduce', 'complications', 'anxiety', 'risk', 'issues', 'off', 'without', 'unequal', 'shorter', 'still', 'wait', 'expensive', 'lacking', 'impossible']\n",
      "\n",
      "\n",
      "Total Neutral Words :  38\n",
      "\n",
      "\n",
      "Neutral words: ['arrange', 'most', 'traditional', 'costly', 'regular', 'costs', 'revolutionize', 'accessible', 'consult', 'consultations', 'factor', 'cost', 'makes', 'using', 'contributing', 'possible', 'regardless', 'spending', 'more', 'conditions', 'importance', 'particularly', 'access', 'enabling', 'need', 'major', 'limited', 'needing', 'manage', 'communicate', 'spend', 'potential', 'monitor', 'use', 'allows', 'treat', 'quality', 'focus']\n"
     ]
    }
   ],
   "source": [
    "positive_words1 = [\"rising\", \"high-speed\", \"improved\", \"increasingly\", \"rise\", \"increasing\", \"aware\", \"get\", \"challenges\",\n",
    "                   \"care\", \"help\", \"allowing\", \"give\", \"able\", \"receive\", \"improving\", \"well-being\", \"Greater\", \"convenience\",\n",
    "                   \"flexibility\", \"comfort\", \"saving\", \"beneficial\", \"prevent\", \"affordable\", \"Enhanced\", \"outcomes\", \"improve\"\n",
    "                  , \"quality\", \"ensure\", \"lead\", \"better\", \"higher\", \"significant\", \"opportunities\", \"like\", \"support\", \"boost\",\n",
    "                  \"Better\", \"effectively\", \"Increased\", \"convenient\", \"satisfaction\", \"accessibility\", \"accessible\", \"easy\",\n",
    "                   \"facilities\", \"consult\", \"able\", \"associated\", \"offer\", \"likely\", \"benefits\", \"faster\", \"continuity\",\n",
    "                   \"significantly\", \"availability\", \"high-speed\", \"accurately\", \"good\", \"continue\", \"increase\", \"allowing\",\n",
    "                   \"informed\", \"decisions\", \"diseases\", \"avoiding\", \"ability\", \"easier\", \"freeing\", \"advances\", \"efficient\",\n",
    "                   \"allows\", \"enables\", \"offer\", \"bridge\", \"saving\"]\n",
    "\n",
    "negative_words1 = [\"angry\", \"bad\", \"wrong\", \"decreasing\", \"not\", \"without\", \"unequal\", \"lacking\", \"impossible\", \"issues\",\n",
    "                  \"Reduced\", \"reduce\", \"less\", \"expensive\", \"interventions\", \"alike\", \"unemployment\", \"risk\", \"complications\",\n",
    "                  \"wait\", \"avoid\", \"off\", \"diseases\", \"busy\", \"impact\", \"strain\", \"already-overburdened\", \"shorter\",\n",
    "                   \"infectious\", \"anxiety\",\"stress\", \"waiting\", \"gap\", \"still\"]\n",
    "\n",
    "neutral_words1 = [\"use\", \"treat\", \"using\", \"possible\", \"potential\", \"revolutionize\", \"focus\", \"more\", \"importance\", \"allows\",\n",
    "                 \"monitor\", \"quality\", \"traditional\", \"consult\", \"particularly\", \"limited\", \"costs\", \"enabling\", \"costly\", \n",
    "                  \"more\", \"most\", \"needs\", \"conditions\", \"manage\", \"regular\", \"need\", \"consultations\", \"makes\", \"regardless\", \n",
    "                  \"cost\", \"needing\", \"access\", \"arrange\", \"accessible\", \"future\", \"contributing\", \"using\", \"possible\",\n",
    "                  \"communicate\", \"spend\", \"spending\", \"major\", \"factor\"]\n",
    "\n",
    "\n",
    "\n",
    "positive_word_list1 = [] \n",
    "for positive_word1 in content_list1:\n",
    "    if positive_word1.lower() in positive_words1:\n",
    "        positive_word_list1.append(positive_word1)\n",
    "\n",
    "pos_c=0        \n",
    "for positive_word1 in set(content_list1):\n",
    "    if positive_word1.lower() in positive_words1:      \n",
    "        pos_c+=1\n",
    "        positive_word_list1.append(positive_word1)        \n",
    "        \n",
    "print(\"\\n\\nTotal Positive Words : \", pos_c)\n",
    "print(\"\\n\\nPositive words:\", list(set(positive_word_list1)))\n",
    "\n",
    "\n",
    "negative_word_list1 = []\n",
    "for negative_word1 in content_list1:\n",
    "    if negative_word1.lower() in negative_words1:\n",
    "        negative_word_list1.append(negative_word1)\n",
    "\n",
    "neg_c=0        \n",
    "for negative_word1 in set(content_list1):\n",
    "    if negative_word1.lower() in negative_words1:      \n",
    "        neg_c+=1\n",
    "        negative_word_list1.append(negative_word1)        \n",
    "        \n",
    "print(\"\\n\\nTotal Negative Words : \", neg_c)\n",
    "print(\"\\n\\nNegative words:\", list(set(negative_word_list1)))\n",
    "\n",
    "\n",
    "neutral_word_list1 = []  \n",
    "for neutral_word1 in content_list1:\n",
    "    if neutral_word1.lower() in neutral_words1:\n",
    "        neutral_word_list1.append(neutral_word1)\n",
    "\n",
    "neu_c=0        \n",
    "for neutral_word1 in set(content_list1):\n",
    "    if neutral_word1.lower() in neutral_words1:      \n",
    "        neu_c+=1\n",
    "        neutral_word_list1.append(neutral_word1)        \n",
    "        \n",
    "print(\"\\n\\nTotal Neutral Words : \", neu_c)\n",
    "print(\"\\n\\nNeutral words:\", list(set(neutral_word_list1)))"
   ]
  },
  {
   "cell_type": "code",
   "execution_count": 13,
   "id": "324d8a0e",
   "metadata": {},
   "outputs": [
    {
     "name": "stdout",
     "output_type": "stream",
     "text": [
      "\n",
      "Positive Score :  0.03607937462417318\n",
      "\n",
      "Negative Score :  0.014431749849669273\n",
      "\n",
      "Neutral Score :  0.022850270595309682\n",
      "\n",
      "Polarity Score :  0.4285629440455244\n",
      "\n",
      "Subjectivity Score :  3.0373496358069127e-05\n",
      "\n",
      "Average Sentence Length :  19.114942528735632\n"
     ]
    }
   ],
   "source": [
    "positive_score=pos_c/word_count_content1\n",
    "print('\\nPositive Score : ', positive_score)\n",
    "\n",
    "negative_score=neg_c/word_count_content1\n",
    "print('\\nNegative Score : ', negative_score)\n",
    "\n",
    "neutral_score=neu_c/word_count_content1\n",
    "print('\\nNeutral Score : ', neutral_score)\n",
    "\n",
    "polarity_score = (positive_score - negative_score)/((positive_score + negative_score) + 0.000001)\n",
    "print('\\nPolarity Score : ', polarity_score)\n",
    "\n",
    "subjectivity_score = (positive_score + negative_score)/((word_count_content1) + 0.000001)\n",
    "print('\\nSubjectivity Score : ', subjectivity_score)\n",
    "\n",
    "avg_sentence_length = word_count_content1 / sentence_count_content1\n",
    "print('\\nAverage Sentence Length : ', avg_sentence_length)\n",
    "\n"
   ]
  },
  {
   "cell_type": "code",
   "execution_count": 15,
   "id": "19aafca4",
   "metadata": {},
   "outputs": [],
   "source": [
    "import re"
   ]
  },
  {
   "cell_type": "code",
   "execution_count": 44,
   "id": "ed4c9b8e",
   "metadata": {},
   "outputs": [
    {
     "name": "stdout",
     "output_type": "stream",
     "text": [
      "\n",
      "\n",
      "Total Syllabal words: 1630\n",
      "\n",
      "\n",
      "Total Complex words: 498\n",
      "\n",
      "\n",
      "Complex words: ['\\nTelemedicine,', 'technology', 'diagnose', 'remotely,', 'internet', 'improved', 'conferencing', 'healthcare', 'providers', 'increasingly', 'telemedicine', 'provide', 'remote', 'underserved', 'areas.\\nTelemedicine,', 'technology', 'provide', 'healthcare', 'services', 'remotely,', 'recently', 'popularity.', 'advancements', 'communication', 'medical', 'technology,', 'become', 'increasingly', 'possible', 'interact', 'anywhere', 'telemedicine,', 'potential', 'revolutionize', 'healthcare', 'delivered.#Telemedicine\\nThe', 'increasing', 'preventative', 'healthcare', 'telemedicine.', 'become', 'aware', 'importance', 'Telemedicine', 'monitor', 'advice', 'healthcare', 'providers', 'traveling', 'hospital.\\nImproved', 'healthcare:', 'challenges', 'healthcare', 'industry', 'unequal', 'distribution', 'medical', 'resources,', 'remote', 'quality', 'Telemedicine', 'allowing', 'underserved', 'healthcare', 'providers', 'worldwide.', 'specialized', 'medical', 'otherwise', 'receive,', 'improving', 'overall', 'well-being.#Healthcare\\nGreater', 'convenience', 'flexibility:', 'Telemedicine', 'convenience', 'flexibility', 'impossible', 'traditional', 'in-person', 'medical', 'healthcare', 'providers', 'particularly', 'beneficial', 'individuals', 'mobility', 'limited', 'medical', 'facilities.\\nReduced', 'healthcare', 'enabling', 'receive', 'remotely,', 'telemedicine', 'reduce', 'overall', 'healthcare.', 'because', 'telemedicine', 'generally', 'expensive', 'in-person', 'interventions,', 'hospitalizations.', 'telemedicine', 'potential', 'healthcare', 'affordable', 'healthcare', 'providers', 'alike.#Costs\\nEnhanced', 'healthcare', 'outcomes:', 'Telemedicine', 'improve', 'quality', 'allowing', 'healthcare', 'providers', 'medical', 'important', 'information', 'remotely,', 'telemedicine', 'ensure', 'receive', 'appropriate', 'outcomes', 'quality', 'patients.#Enhanced\\nMore', 'significant', 'opportunities', 'healthcare', 'industry', 'healthcare', 'including', 'healthcare', 'providers,', 'technology', 'provide', 'economies', 'reduce', 'unemployment.#Jobs\\nBetter', 'conditions:', 'Telemedicine', 'conditions', 'manage', 'effectively,', 'allowing', 'receive', 'regular', 'distances.', 'improve', 'quality', 'individuals', 'reduce', 'complications', 'conditions.\\nIncreased', 'flexibility', 'healthcare', 'providers:', 'Telemedicine', 'providers', 'schedule', 'consultations', 'convenient', 'improving', 'overall', 'flexibility', 'healthcare', 'reduce', 'improve', 'satisfaction.\\nIncreased', 'accessibility:', 'Telemedicine', 'healthcare', 'accessible', 'remote', 'medical', 'facilities.', 'telemedicine,', 'specialists', 'computers,', 'devices.', 'medical', 'regardless', 'live.\\nReduced', 'significant', 'benefits', 'telemedicine', 'reduce', 'healthcare', 'accommodation,', 'associated', 'in-person', 'Telemedicine', 'reduce', 'medical', 'procedures,', 'remotely', 'monitor', 'provide', 'hospitalization.\\nImproved', 'outcomes:', 'providing', 'medical', 'telemedicine', 'improve', 'outcomes.', 'example,', 'conditions', 'telemedicine', 'manage', 'reduce', 'complications.', 'Telemedicine', 'infectious', 'diseases,', 'receive', 'contacting', 'people.\\nIncreased', 'convenience:', 'Telemedicine', 'convenient', 'medical', 'telemedicine,', 'schedule', 'appointments', 'convenient', 'arrange', 'transportation.', 'especially', 'beneficial', 'schedules', 'mobility', 'issues.\\nTelemedicine,', 'electronic', 'communication', 'information', 'technologies', 'provide', 'healthcare', 'services', 'remotely,', 'potential', 'significantly', 'receive', 'deliver', 'medical', 'telemedicine', 'likely', 'become', 'increasingly', 'important', 'healthcare', 'providing', 'numerous', 'benefits', 'improving', 'livelihood', 'people.\\nThe', 'benefits', 'telemedicine', 'numerous.', 'provides', 'convenient', 'medical', 'traveling', 'distances.', 'diagnosis', 'improved', 'continuity', 'healthcare', 'providers,', 'telemedicine', 'reduce', 'already-overburdened', 'healthcare', 'providing', 'remote', 'accessible.\\nThe', 'telemedicine', 'likely', 'significantly', 'receive', 'medical', 'future.', 'estimated', 'telemedicine', 'healthcare', 'landscape,', 'diagnose', 'remotely.\\nOne', 'telemedicine', 'increasing', 'availability', 'internet', 'improved', 'conferencing', 'quality', 'telemedicine', 'consultations', 'difficult', 'diagnose', 'accurately.', 'However,', 'internet', 'conferencing', 'telemedicine', 'consultations', 'in-person', 'visits.\\nTelemedicine', 'healthcare', 'accessible.', 'telemedicine,', 'distances', 'specialist.', 'receive', 'particularly', 'beneficial', 'healthcare', 'limited.\\nAnother', 'contributing', 'telemedicine', 'increasing', 'healthcare', 'services.', 'population', 'medical', 'continue', 'increase.', 'Telemedicine', 'healthcare', 'providers', 'allowing', 'provide', 'time.\\nAnother', 'substantial', 'telemedicine', 'improve', 'quality', 'technology', 'telemedicine', 'ensure', 'receive', 'possible.', 'example,', 'conferencing', 'specialist', 'remote', 'monitoring', 'devices', 'informed', 'decisions', 'provide', 'treatment.\\nTelemedicine', 'potential', 'reduce', 'healthcare', 'allowing', 'receive', 'telemedicine', 'reduce', 'expensive', 'hospital', 'addition,', 'telemedicine', 'infectious', 'diseases,', 'reducing', 'healthcare', 'avoiding', 'hospitalization.\\nOne', 'critical', 'telemedicine', 'improve', 'experience.', 'providing', 'ability', 'receive', 'telemedicine', 'reduce', 'anxiety', 'addition,', 'telemedicine', 'communicate', 'need.\\nAnother', 'telemedicine', 'livelihoods', 'healthcare', 'efficient.', 'allowing', 'diagnose', 'remotely,', 'telemedicine', 'reduce', 'reduce', 'administrative', 'provide', 'care.\\nOne', 'telemedicine', 'increasing', 'technology', 'healthcare.', 'advances', 'communication', 'medical', 'technology,', 'possible', 'healthcare', 'providers', 'remotely', 'diagnose', 'conferencing,', 'remote', 'monitoring,', 'telemedicine.', 'efficient', 'convenient', 'healthcare', 'delivery', 'enables', 'healthcare', 'providers', 'specialized', 'otherwise', 'it.\\nAnother', 'contributing', 'telemedicine', 'improved', 'healthcare.', 'distances', 'underserved', 'distances', 'medical', 'Telemedicine', 'allowing', 'healthcare', 'providers', 'remotely.', 'improves', 'healthcare', 'reduces', 'distances,', 'money.\\nFinally,', 'telemedicine’s', 'remote', 'remote', 'locations,', 'convenient', 'accessible', 'healthcare', 'increasing.', 'Telemedicine', 'healthcare', 'providers', 'reducing', 'healthcare', 'provider.\\nOverall,', 'telemedicine', 'combination', 'including', 'increasing', 'technology', 'healthcare,', 'improved', 'healthcare,', 'remote', 'continue', 'evolve,', 'likely,', 'telemedicine', 'likely', 'become', 'increasingly', 'important', 'healthcare', 'landscape.\\nHowever,', 'telemedicine', 'likely', 'challenges.', 'example,', 'telemedicine', 'consultations', 'suitable', 'medical', 'conditions,', 'Additionally,', 'telemedicine', 'receptionists', 'administrative', 'healthcare', 'facilities.\\nBlackcoffer', 'Balaji,', 'Institute', 'Technology,Madras\\n']\n"
     ]
    }
   ],
   "source": [
    "def is_complex(complex_word1):\n",
    "    # You can customize this threshold as needed\n",
    "    if len(re.findall(r'[aeiouy]+', complex_word1, re.I)) >= 3:\n",
    "        return complex_word1\n",
    "\n",
    "def count_syllables(complex_word11):\n",
    "    return len(re.findall(r'[aeiouy]+', complex_word11, re.I))\n",
    "    \n",
    "complex_words1 = [complex_word1 for complex_word1 in content_list1 if is_complex(complex_word1)]\n",
    "count_complex_words1=len(complex_words1)\n",
    "\n",
    "syllabal_words1 = [complex_word11 for complex_word11 in content_list1 if count_syllables(complex_word11)]\n",
    "count_syllabal_words1=len(syllabal_words1)\n",
    "\n",
    "print(\"\\n\\nTotal Syllabal words:\", count_syllabal_words1)\n",
    "print(\"\\n\\nTotal Complex words:\", count_complex_words1)\n",
    "print(\"\\n\\nComplex words:\", complex_words1)"
   ]
  },
  {
   "cell_type": "code",
   "execution_count": 35,
   "id": "644c99b6",
   "metadata": {},
   "outputs": [
    {
     "name": "stdout",
     "output_type": "stream",
     "text": [
      "\n",
      " Complex Words Percentage :  0.2994588093806374\n"
     ]
    }
   ],
   "source": [
    "percentage_complex_words = count_complex_words1/word_count_content1\n",
    "print('\\n Complex Words Percentage : ', percentage_complex_words)"
   ]
  },
  {
   "cell_type": "code",
   "execution_count": 36,
   "id": "e0095eab",
   "metadata": {},
   "outputs": [
    {
     "name": "stdout",
     "output_type": "stream",
     "text": [
      "\n",
      " Fog Index :  7.765760535246509\n"
     ]
    }
   ],
   "source": [
    "fog_index = 0.4 * (avg_sentence_length + percentage_complex_words)\n",
    "print('\\n Fog Index : ', fog_index)"
   ]
  },
  {
   "cell_type": "code",
   "execution_count": 37,
   "id": "c8f36d75",
   "metadata": {},
   "outputs": [
    {
     "name": "stdout",
     "output_type": "stream",
     "text": [
      "\n",
      " Average Number of Words Per Sentence :  19.114942528735632\n"
     ]
    }
   ],
   "source": [
    "avg_words_per_sentence = word_count_content1 / sentence_count_content1\n",
    "print('\\n Average Number of Words Per Sentence : ', avg_words_per_sentence)"
   ]
  },
  {
   "cell_type": "code",
   "execution_count": 52,
   "id": "5688f5cf",
   "metadata": {},
   "outputs": [
    {
     "name": "stdout",
     "output_type": "stream",
     "text": [
      "\n",
      "\n",
      "Total Pronoun Words :  44\n",
      "\n",
      "\n",
      "Pronoun words: ['it', 'they', 'their', 'their', 'they', 'their', 'their', 'their', 'their', 'their', 'them', 'their', 'their', 'their', 'they', 'they', 'it', 'their', 'their', 'their', 'we', 'our', 'it', 'It', 'we', 'it', 'it', 'it', 'they', 'their', 'them', 'it', 'their', 'it', 'their', 'it', 'their', 'they', 'It', 'them', 'it', 'them', 'their', 'them']\n",
      "\n",
      "\n",
      "Unique Pronoun words: ['their', 'we', 'our', 'it', 'they', 'them', 'It']\n"
     ]
    }
   ],
   "source": [
    "pronoun_words1 = [\"i\", \"you\", \"he\", \"she\", \"it\", \"we\", \"you\", \"they\", \"me\", \"him\", \"her\", \"us\", \"them\", \"my\", \"your\", \n",
    "                  \"his\", \"her\", \"its\", \"our\", \"their\", \"mine\", \"yours\", \"hers\", \"ours\", \"yours\", \"theirs\", \"myself\", \n",
    "                  \"yourself\", \"himself\", \"herself\", \"itself\", \"ourselves\", \"yourselves\", \"themselves\"]\n",
    "\n",
    "pronoun_word_list1 = [] \n",
    "for pronoun_word1 in content_list1:\n",
    "    if pronoun_word1.lower() in pronoun_words1:\n",
    "        pronoun_word_list1.append(pronoun_word1)\n",
    "        \n",
    "pronoun_c = len(pronoun_word_list1)\n",
    "        \n",
    "print(\"\\n\\nTotal Pronoun Words : \", pronoun_c)\n",
    "print(\"\\n\\nPronoun words:\", list(pronoun_word_list1))\n",
    "print(\"\\n\\nUnique Pronoun words:\", list(set(pronoun_word_list1)))\n",
    "    "
   ]
  },
  {
   "cell_type": "code",
   "execution_count": 53,
   "id": "29dd3f77",
   "metadata": {},
   "outputs": [
    {
     "name": "stdout",
     "output_type": "stream",
     "text": [
      "Average word length: 5.839657282741738\n"
     ]
    }
   ],
   "source": [
    "total_characters = sum(len(each_word) for each_word in content_list1)\n",
    "total_words = len(content_list1)\n",
    "        \n",
    "if total_words > 0:\n",
    "    average_word_length = total_characters / total_words\n",
    "    print(\"Average word length:\", average_word_length)"
   ]
  },
  {
   "cell_type": "code",
   "execution_count": 60,
   "id": "95bdad85",
   "metadata": {},
   "outputs": [
    {
     "name": "stdout",
     "output_type": "stream",
     "text": [
      "Data saved to data_report.xlsx\n"
     ]
    }
   ],
   "source": [
    "# Create a DataFrame to store the data\n",
    "import pandas as pd\n",
    "\n",
    "URL_ID=123\n",
    "\n",
    "data = {\n",
    "    \"URL ID\" : [URL_ID],\n",
    "    \"URL\" : [url],\n",
    "    \"POSITIVE SCORE\" : [positive_score],\n",
    "    \"NEGATIVE SCORE\" : [negative_score],\n",
    "    \"POLARITY SCORE\" : [polarity_score],\n",
    "    \"SUBJECTIVITY SCORE\" : [subjectivity_score],\n",
    "    \"AVG SENTENCE LENGTH\" : [avg_sentence_length],\n",
    "    \"PERCENTAGE OF COMPLEX WORDS\" : [percentage_complex_words],\n",
    "    \"FOG INDEX\" : [fog_index],\n",
    "    \"AVG NUMBER OF WORDS PER SENTENCE\" : [avg_words_per_sentence],\n",
    "    \"COMPLEX WORD COUNT\" : [count_complex_words1],\n",
    "    \"WORD COUNT\" : [word_count_content1],\n",
    "    \"SYLLABLE PER WORD\" : [count_syllabal_words1],\n",
    "    \"PERSONAL PRONOUNS\" : [pronoun_c],\n",
    "    \"AVG WORD LENGTH\" : [average_word_length]\n",
    "       }\n",
    "df = pd.DataFrame(data)\n",
    "        \n",
    "# Save the DataFrame to an Excel file\n",
    "excel_file = \"data_report.xlsx\"\n",
    "df.to_excel(excel_file, index=False)\n",
    "        \n",
    "print(\"Data saved to\", excel_file)"
   ]
  },
  {
   "cell_type": "code",
   "execution_count": null,
   "id": "9b1f32fe",
   "metadata": {},
   "outputs": [],
   "source": []
  }
 ],
 "metadata": {
  "kernelspec": {
   "display_name": "Python 3 (ipykernel)",
   "language": "python",
   "name": "python3"
  },
  "language_info": {
   "codemirror_mode": {
    "name": "ipython",
    "version": 3
   },
   "file_extension": ".py",
   "mimetype": "text/x-python",
   "name": "python",
   "nbconvert_exporter": "python",
   "pygments_lexer": "ipython3",
   "version": "3.9.13"
  }
 },
 "nbformat": 4,
 "nbformat_minor": 5
}
